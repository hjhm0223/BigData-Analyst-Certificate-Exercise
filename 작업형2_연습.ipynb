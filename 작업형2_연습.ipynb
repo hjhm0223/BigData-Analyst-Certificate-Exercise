{
 "cells": [
  {
   "cell_type": "code",
   "execution_count": 1,
   "id": "7df76b22",
   "metadata": {},
   "outputs": [
    {
     "name": "stdout",
     "output_type": "stream",
     "text": [
      "                      0       1\n",
      "0             alabaster  0.7.12\n",
      "1       anaconda-client   1.7.2\n",
      "2    anaconda-navigator   2.0.3\n",
      "3      anaconda-project   0.9.1\n",
      "4                 anyio   2.2.0\n",
      "..                  ...     ...\n",
      "250                yapf  0.31.0\n",
      "251                zict   2.0.0\n",
      "252                zipp   3.4.1\n",
      "253          zope.event   4.5.0\n",
      "254      zope.interface   5.3.0\n",
      "\n",
      "[255 rows x 2 columns]\n"
     ]
    }
   ],
   "source": [
    "import pkg_resources \n",
    "import pandas as pd\n",
    "OutputDataSet = pd.DataFrame(sorted([(i.key, i.version) for i in pkg_resources.working_set])) \n",
    "print(OutputDataSet)\n",
    "\n",
    "# 전체 칼럼 출력하기\n",
    "pd.options.display.max_columns = None"
   ]
  },
  {
   "cell_type": "markdown",
   "id": "29c4354b",
   "metadata": {},
   "source": [
    "## 1.  고객 3500명에 대한 학습용 데이터를 이용하여 성별 예측 모형을 만든 후, 평가용 데이터에 적용하여 얻은 예측값(남자일 확률)을 csv 파일로 생성. 데이터 전처리, Feature Engineering, 분류 알고리즘 사용, 하이퍼 파라미터 최적화, 모형 앙상블 등이 수반"
   ]
  },
  {
   "cell_type": "code",
   "execution_count": 21,
   "id": "be754bb1",
   "metadata": {},
   "outputs": [
    {
     "name": "stderr",
     "output_type": "stream",
     "text": [
      "<ipython-input-21-3497745f5106>:45: DataConversionWarning: A column-vector y was passed when a 1d array was expected. Please change the shape of y to (n_samples,), for example using ravel().\n",
      "  model.fit(x_train, y_train)\n"
     ]
    },
    {
     "name": "stdout",
     "output_type": "stream",
     "text": [
      "0.9995421245421245\n",
      "      cust_id  gender\n",
      "0        3500       1\n",
      "1        3501       0\n",
      "2        3502       0\n",
      "3        3503       0\n",
      "4        3504       1\n",
      "...       ...     ...\n",
      "2477     5977       1\n",
      "2478     5978       1\n",
      "2479     5979       1\n",
      "2480     5980       1\n",
      "2481     5981       1\n",
      "\n",
      "[2482 rows x 2 columns]\n"
     ]
    }
   ],
   "source": [
    "### 데이터 불러오기\n",
    "x_train = pd.read_csv('./bigData/x_train.csv', encoding='CP949')\n",
    "y_train = pd.read_csv('./bigData/y_train.csv', encoding='CP949')\n",
    "x_test = pd.read_csv('./bigData/x_test.csv', encoding='CP949')\n",
    "\n",
    "### 데이터 탐색\n",
    "# print(x_train.info())\n",
    "# print(y_train.info())\n",
    "# print(x_test.info())\n",
    "\n",
    "### 데이터 전처리\n",
    "x_train = x_train.drop(columns = ['cust_id'])\n",
    "x_test_custId = x_test['cust_id']\n",
    "x_test = x_test.drop(columns = ['cust_id'])\n",
    "y_train = y_train.drop(columns = ['cust_id'])\n",
    "\n",
    "# print(x_train.isnull().sum())\n",
    "# print(x_test.isnull().sum())\n",
    "# print(pd.concat([x_train, y_train], axis=1).corr())\n",
    "\n",
    "x_train['환불금액'] = x_train['환불금액'].fillna(x_train['환불금액'].mean())\n",
    "x_test['환불금액'] = x_test['환불금액'].fillna(x_test['환불금액'].mean())\n",
    "\n",
    "from sklearn.preprocessing import LabelEncoder\n",
    "encoder = LabelEncoder()\n",
    "x_train['주구매상품'] = encoder.fit_transform(x_train['주구매상품'])\n",
    "x_train['주구매지점'] = encoder.fit_transform(x_train['주구매지점'])\n",
    "x_test['주구매상품'] = encoder.fit_transform(x_test['주구매상품'])\n",
    "x_test['주구매지점'] = encoder.fit_transform(x_test['주구매지점'])\n",
    "# print(x_train.info())\n",
    "# print(y_train.info())\n",
    "\n",
    "# print(x_train[['총구매액', '최대구매액', '환불금액']].corr())\n",
    "x_train = x_train.drop(columns = ['최대구매액'])\n",
    "x_test = x_test.drop(columns = ['최대구매액'])\n",
    "\n",
    "from sklearn.preprocessing import StandardScaler\n",
    "scaler = StandardScaler()\n",
    "x_train = pd.DataFrame(scaler.fit_transform(x_train), columns = x_train.columns)\n",
    "x_test = pd.DataFrame(scaler.fit_transform(x_test), columns = x_test.columns)\n",
    "\n",
    "### 데이터 학습\n",
    "from sklearn.ensemble import RandomForestClassifier\n",
    "model = RandomForestClassifier()\n",
    "model.fit(x_train, y_train)\n",
    "y_train_pred = pd.DataFrame(model.predict(x_train))\n",
    "y_test_pred = pd.DataFrame(model.predict(x_test))\n",
    "\n",
    "### 모델 평가\n",
    "from sklearn.metrics import roc_auc_score\n",
    "# print(roc_auc_score(y_train, y_train_pred))\n",
    "\n",
    "### 결과 저장\n",
    "result = pd.concat([x_test_custId, y_test_pred], axis=1)\n",
    "result.columns = ['cust_id', 'gender']\n",
    "result.to_csv('./bigData/result1.csv', index = False)\n",
    "# print(pd.read_csv('./bigData/result1.csv'))"
   ]
  },
  {
   "cell_type": "markdown",
   "id": "7b97c552",
   "metadata": {},
   "source": [
    "## 2. 고객 891명에 대한 학습용 데이터를 이용하여 생존 여부를 예측하는 모형을 만든다. 이후 예측 모형을 평가용 데이터에 적용하여 418명 승객의 생존 여부 예측값을 CSV 파일로 생성"
   ]
  },
  {
   "cell_type": "code",
   "execution_count": 55,
   "id": "68b3a834",
   "metadata": {},
   "outputs": [
    {
     "name": "stdout",
     "output_type": "stream",
     "text": [
      "     PassengerId  Survived\n",
      "0            892         0\n",
      "1            893         1\n",
      "2            894         0\n",
      "3            895         0\n",
      "4            896         1\n",
      "..           ...       ...\n",
      "413         1305         0\n",
      "414         1306         1\n",
      "415         1307         0\n",
      "416         1308         0\n",
      "417         1309         0\n",
      "\n",
      "[418 rows x 2 columns]\n"
     ]
    },
    {
     "name": "stderr",
     "output_type": "stream",
     "text": [
      "<ipython-input-55-d1754a41a4f1>:51: DataConversionWarning: A column-vector y was passed when a 1d array was expected. Please change the shape of y to (n_samples,), for example using ravel().\n",
      "  model.fit(x_train, y_train)\n"
     ]
    }
   ],
   "source": [
    "### 데이터 불러오기\n",
    "x_train = pd.read_csv('./bigData/titanic_x_train.csv', encoding='CP949')\n",
    "x_test = pd.read_csv('./bigData/titanic_x_test.csv', encoding='CP949')\n",
    "y_train = pd.read_csv('./bigData/titanic_y_train.csv', encoding='CP949')\n",
    "y_train.columns = ['PassengerId', 'Survived']\n",
    "\n",
    "# print(x_train.head())\n",
    "# print(x_test.head())\n",
    "# print(y_train.head())\n",
    "# print(x_train.info())\n",
    "# print(x_test.info())\n",
    "# print(y_train.info())\n",
    "# print(x_train.isnull().sum())\n",
    "\n",
    "x_train = x_train.drop(columns = ['PassengerId', '승객이름', '티켓번호', '객실번호', '나이'])\n",
    "x_test_passengerId = x_test['PassengerId']\n",
    "x_test = x_test.drop(columns = ['PassengerId', '승객이름', '티켓번호', '객실번호', '나이'])\n",
    "y_train = y_train.drop(columns = ['PassengerId'])\n",
    "\n",
    "# print(pd.concat([x_train, y_train], axis=1).corr()['Survived'])\n",
    "# print(x_train['선착장'].mode())\n",
    "x_train['선착장'] = x_train['선착장'].fillna('S')\n",
    "x_test['운임요금'] = x_test['운임요금'].fillna(x_test['운임요금'].mean())\n",
    "# print(x_train.isnull().sum())\n",
    "# print(x_test.isnull().sum())\n",
    "\n",
    "x_train['성별'] = x_train['성별'].replace('male', 0).replace('female', 1)\n",
    "x_test['성별'] = x_test['성별'].replace('male', 0).replace('female', 1)\n",
    "x_train['가족수'] = x_train['형제자매배우자수'] + x_train['부모자식수']\n",
    "x_test['가족수'] = x_test['형제자매배우자수'] + x_test['부모자식수']\n",
    "x_train = x_train.drop(columns = ['형제자매배우자수', '부모자식수'])\n",
    "x_test = x_test.drop(columns = ['형제자매배우자수', '부모자식수'])\n",
    "\n",
    "new_train_선착장 = pd.get_dummies(x_train['선착장'], drop_first = True)\n",
    "new_train_선착장.columns = ['선착장Q', '선착장S']\n",
    "x_train = pd.concat([x_train.drop(columns = ['선착장']), new_train_선착장], axis=1)\n",
    "new_test_선착장 = pd.get_dummies(x_test['선착장'], drop_first = True)\n",
    "new_test_선착장.columns = ['선착장Q', '선착장S']\n",
    "x_test = pd.concat([x_test.drop(columns = ['선착장']), new_test_선착장], axis=1)\n",
    "\n",
    "# from sklearn.preprocessing import StandardScaler\n",
    "# scaler = StandardScaler()\n",
    "# x_train = pd.DataFrame(scaler.fit_transform(x_train), columns = x_train.columns)\n",
    "# x_test = pd.DataFrame(scaler.fit_transform(x_test), columns = x_test.columns)\n",
    "\n",
    "# print(x_train.describe())\n",
    "\n",
    "### 데이터 학습 및 모델 평가\n",
    "from sklearn.ensemble import RandomForestClassifier\n",
    "model = RandomForestClassifier()\n",
    "model.fit(x_train, y_train)\n",
    "y_train_pred = pd.DataFrame(model.predict(x_train))\n",
    "y_test_pred = pd.DataFrame(model.predict(x_test))\n",
    "\n",
    "# from sklearn.tree import DecisionTreeClassifier\n",
    "# model = DecisionTreeClassifier()\n",
    "# model.fit(x_train, y_train)\n",
    "# y_train_pred = model.predict(x_train)\n",
    "# y_test_pred = model.predict(x_test)\n",
    "\n",
    "from sklearn.metrics import roc_auc_score\n",
    "# print(roc_auc_score(y_train, y_train_pred))\n",
    "\n",
    "### 결과 저장\n",
    "result = pd.concat([x_test_passengerId, y_test_pred], axis=1)\n",
    "result.columns = ['PassengerId', 'Survived']\n",
    "result.to_csv('./bigData/result2.csv', index = False)\n",
    "print(pd.read_csv('./bigData/result2.csv'))"
   ]
  }
 ],
 "metadata": {
  "kernelspec": {
   "display_name": "Python 3",
   "language": "python",
   "name": "python3"
  },
  "language_info": {
   "codemirror_mode": {
    "name": "ipython",
    "version": 3
   },
   "file_extension": ".py",
   "mimetype": "text/x-python",
   "name": "python",
   "nbconvert_exporter": "python",
   "pygments_lexer": "ipython3",
   "version": "3.8.8"
  }
 },
 "nbformat": 4,
 "nbformat_minor": 5
}
