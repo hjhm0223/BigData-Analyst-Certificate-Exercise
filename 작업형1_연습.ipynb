{
 "cells": [
  {
   "cell_type": "code",
   "execution_count": null,
   "id": "92185395",
   "metadata": {
    "scrolled": false
   },
   "outputs": [],
   "source": [
    "import pkg_resources \n",
    "import pandas as pd\n",
    "OutputDataSet = pd.DataFrame(sorted([(i.key, i.version) for i in pkg_resources.working_set])) \n",
    "print(OutputDataSet)"
   ]
  },
  {
   "cell_type": "markdown",
   "id": "9fdb2866",
   "metadata": {},
   "source": [
    "# Python Keyword"
   ]
  },
  {
   "cell_type": "code",
   "execution_count": null,
   "id": "61b8f48b",
   "metadata": {
    "scrolled": false
   },
   "outputs": [],
   "source": [
    "# sklearn package\n",
    "import sklearn\n",
    "print(dir(sklearn))\n",
    "import sklearn.preprocessing\n",
    "print(dir(sklearn.preprocessing))\n",
    "from sklearn.preprocessing import StandardScaler \n",
    "print(help(StandardScaler))"
   ]
  },
  {
   "cell_type": "code",
   "execution_count": null,
   "id": "fbe096e2",
   "metadata": {},
   "outputs": [],
   "source": [
    "# boston 데이터 불러오기 \n",
    "boston = pd.read_csv('./bigData/boston.csv')\n",
    "print(boston.head())"
   ]
  },
  {
   "cell_type": "markdown",
   "id": "e8bd53fe",
   "metadata": {},
   "source": [
    "# 간단한 유형"
   ]
  },
  {
   "cell_type": "code",
   "execution_count": null,
   "id": "52f39513",
   "metadata": {},
   "outputs": [],
   "source": [
    "# 1. Top 10 구하기\n",
    "## MEDV 데이터 오름차순으로 정렬 후 제일 작은 값 10개 출력 \n",
    "medv_asc = boston.sort_values(by = 'MEDV', ascending = True)['MEDV']\n",
    "print(medv_asc.head(10))"
   ]
  },
  {
   "cell_type": "code",
   "execution_count": null,
   "id": "46b346ce",
   "metadata": {},
   "outputs": [],
   "source": [
    "# 2. 결측치 확인하기\n",
    "## RM 칼럼의 결측값 개수\n",
    "sum(boston['RM'].isna())\n",
    "## RM 칼럼의 평균값\n",
    "rm_mean = boston['RM'].mean()\n",
    "## 평균값으로 대체\n",
    "rm_mean = boston['RM'].fillna(rm_mean)\n",
    "## 결측치 삭제\n",
    "rm_drop = boston['RM'].dropna()\n",
    "## 표준편차 차이 구하기\n",
    "print(abs(rm_mean.std() - rm_drop.std()))"
   ]
  },
  {
   "cell_type": "code",
   "execution_count": null,
   "id": "26a5f2c3",
   "metadata": {},
   "outputs": [],
   "source": [
    "# 3. 이상값 확인하기\n",
    "## ZN 칼럼의 평균값과 표준편차\n",
    "zn_mean = boston['ZN'].mean()\n",
    "zn_std = boston['ZN'].std()\n",
    "## 평균보다 1.5*표준편차를 벗어나는 이상값의 합\n",
    "outlier_low = boston[boston['ZN'] < zn_mean-1.5*zn_std]['ZN']\n",
    "outlier_high = boston[boston['ZN'] > zn_mean+1.5*zn_std]['ZN']\n",
    "print(outlier_low.sum()+outlier_high.sum())"
   ]
  },
  {
   "cell_type": "code",
   "execution_count": null,
   "id": "d86aaa90",
   "metadata": {},
   "outputs": [],
   "source": [
    "# 4. 사분위수 구하기\n",
    "## IQR = Q3-Q1\n",
    "print(boston.describe().T['75%']-boston.describe().T['25%'])"
   ]
  },
  {
   "cell_type": "code",
   "execution_count": null,
   "id": "5eee91b9",
   "metadata": {},
   "outputs": [],
   "source": [
    "# 5. 순위 구하기\n",
    "## MEDV 칼럼의 30번째 큰값으로 1~29번째 큰값을 대체하고 평균, 중위수, 최솟값, 최댓값 구하기\n",
    "medv_desc = boston.sort_values(by = 'MEDV', ascending = False)['MEDV']\n",
    "medv_desc.iloc[0:29] = medv_desc.iloc[29]\n",
    "print(medv_desc.mean(), medv_desc.median(), medv_desc.min(), medv_desc.max())"
   ]
  },
  {
   "cell_type": "markdown",
   "id": "0337d691",
   "metadata": {},
   "source": [
    "# 복잡한 유형"
   ]
  },
  {
   "cell_type": "code",
   "execution_count": null,
   "id": "8269a7b5",
   "metadata": {},
   "outputs": [],
   "source": [
    "# 1. 그룹별 집계/요약\n",
    "## TAX 칼럼이 중앙값보다 큰 데이터만 활용\n",
    "new_boston = boston[boston['TAX'] > boston['TAX'].median()][['CHAS', 'RAD']]\n",
    "## CHAS 칼럼과 RAD 칼럼 별 개수를 구하고 column이름은 'COUNT'로 하여 출력\n",
    "grp_data = pd.DataFrame(new_boston.groupby(by = ['CHAS', 'RAD'])['CHAS'].count())\n",
    "grp_data.columns = ['COUNT']\n",
    "print(grp_data)"
   ]
  },
  {
   "cell_type": "code",
   "execution_count": null,
   "id": "53c99e5b",
   "metadata": {},
   "outputs": [],
   "source": [
    "# 2. 오름차순/내림차순 정렬\n",
    "# TAX 칼럼 정렬 후 차이 구하고 분산\n",
    "tax_asc = pd.DataFrame(boston.sort_values(by = 'TAX', ascending = True, ignore_index = True)['TAX'])\n",
    "tax_desc = pd.DataFrame(boston.sort_values(by = 'TAX', ascending = False, ignore_index = True)['TAX'])\n",
    "\n",
    "print(abs(tax_asc - tax_desc).var())"
   ]
  },
  {
   "cell_type": "code",
   "execution_count": null,
   "id": "ccfe98ad",
   "metadata": {},
   "outputs": [],
   "source": [
    "# 3. 최소최대 변환\n",
    "## 최소최대 변환한 후 MEDV 칼럼값이 0.5보다 큰 값의 개수\n",
    "from sklearn.preprocessing import MinMaxScaler\n",
    "scaler = MinMaxScaler()\n",
    "new_boston = pd.DataFrame(scaler.fit_transform(boston), columns = boston.columns)\n",
    "print(sum(new_boston['MEDV'] > 0.5))"
   ]
  },
  {
   "cell_type": "code",
   "execution_count": null,
   "id": "1b6e582e",
   "metadata": {},
   "outputs": [],
   "source": [
    "# 4. 빈도값 구하기\n",
    "## AGE 칼럼의 최빈값과 최빈값 개수 구하기\n",
    "age_mode = int(boston['AGE'].mode())\n",
    "print(age_mode, sum(boston['AGE'] == age_mode))"
   ]
  },
  {
   "cell_type": "code",
   "execution_count": null,
   "id": "46008ea2",
   "metadata": {},
   "outputs": [],
   "source": [
    "# 5. 표준 변환\n",
    "## 표준 변환한 후 DIS 칼럼이 0.4보다 크고 0.6보다 작은 값들의 평균을 2째자리까지 반올림\n",
    "from sklearn.preprocessing import StandardScaler\n",
    "scaler = StandardScaler()\n",
    "new_boston = pd.DataFrame(scaler.fit_transform(boston), columns = boston.columns)\n",
    "new_boston = new_boston[new_boston['DIS'] > 0.4]['DIS']\n",
    "new_boston = new_boston[new_boston < 0.6]\n",
    "print(round(new_boston.mean(), 2))"
   ]
  },
  {
   "cell_type": "code",
   "execution_count": null,
   "id": "79a6945e",
   "metadata": {},
   "outputs": [],
   "source": [
    "# 6. 유니크한 값\n",
    "## boston 데이터의 각 칼럼의 유니크한 값 개수들의 평균\n",
    "sum = 0\n",
    "for col in boston.columns:\n",
    "    sum = sum + boston[col].unique().size\n",
    "print(sum/boston.columns.size)"
   ]
  }
 ],
 "metadata": {
  "kernelspec": {
   "display_name": "Python 3",
   "language": "python",
   "name": "python3"
  },
  "language_info": {
   "codemirror_mode": {
    "name": "ipython",
    "version": 3
   },
   "file_extension": ".py",
   "mimetype": "text/x-python",
   "name": "python",
   "nbconvert_exporter": "python",
   "pygments_lexer": "ipython3",
   "version": "3.8.8"
  }
 },
 "nbformat": 4,
 "nbformat_minor": 5
}
