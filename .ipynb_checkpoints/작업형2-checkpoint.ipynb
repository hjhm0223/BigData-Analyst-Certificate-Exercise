{
 "cells": [
  {
   "cell_type": "code",
   "execution_count": 1,
   "id": "49c987a6",
   "metadata": {
    "scrolled": true
   },
   "outputs": [
    {
     "name": "stdout",
     "output_type": "stream",
     "text": [
      "                      0       1\n",
      "0             alabaster  0.7.12\n",
      "1       anaconda-client   1.7.2\n",
      "2    anaconda-navigator   2.0.3\n",
      "3      anaconda-project   0.9.1\n",
      "4                 anyio   2.2.0\n",
      "..                  ...     ...\n",
      "250                yapf  0.31.0\n",
      "251                zict   2.0.0\n",
      "252                zipp   3.4.1\n",
      "253          zope.event   4.5.0\n",
      "254      zope.interface   5.3.0\n",
      "\n",
      "[255 rows x 2 columns]\n"
     ]
    }
   ],
   "source": [
    "import pkg_resources \n",
    "import pandas as pd\n",
    "OutputDataSet = pd.DataFrame(sorted([(i.key, i.version) for i in pkg_resources.working_set])) \n",
    "print(OutputDataSet)\n",
    "\n",
    "# 전체 칼럼 출력하기\n",
    "pd.options.display.max_columns = None"
   ]
  },
  {
   "cell_type": "markdown",
   "id": "995878e8",
   "metadata": {},
   "source": [
    "## 1.  고객 3500명에 대한 학습용 데이터를 이용하여 성별 예측 모형을 만든 후, 평가용 데이터에 적용하여 얻은 예측값(남자일 확률)을 csv 파일로 생성. 데이터 전처리, Feature Engineering, 분류 알고리즘 사용, 하이퍼 파라미터 최적화, 모형 앙상블 등이 수반\n"
   ]
  },
  {
   "cell_type": "code",
   "execution_count": null,
   "id": "11bea7ae",
   "metadata": {},
   "outputs": [],
   "source": [
    "## 데이터 불러오기\n",
    "x_train = pd.read_csv('./bigData/x_train.csv', encoding='CP949')\n",
    "y_train = pd.read_csv('./bigData/y_train.csv', encoding='CP949')\n",
    "x_test = pd.read_csv('./bigData/x_test.csv', encoding='CP949')\n",
    "\n",
    "## 데이터 탐색\n",
    "x_train.shape, y_train.shape, x_test.shape\n",
    "x_train.head()\n",
    "x_train.info()\n",
    "x_train.describe().T\n",
    "x_train.isnull().sum()\n",
    "x_test.isnull().sum()\n",
    "\n",
    "## 데이터 전처리\n",
    "### 불필요한 칼럼 삭제\n",
    "x_test_cust_id = x_test['cust_id']\n",
    "x_train = x_train.drop(columns = ['cust_id'])\n",
    "y_train = y_train.drop(columns = ['cust_id'])\n",
    "x_test = x_test.drop(columns = ['cust_id'])\n",
    "\n",
    "### 결측값 처리\n",
    "x_train['환불금액'] = x_train['환불금액'].fillna(0)\n",
    "x_test['환불금액'] = x_test['환불금액'].fillna(0)\n",
    "\n",
    "### 범주형 칼럼 Encoding\n",
    "from sklearn.preprocessing import LabelEncoder\n",
    "encoder = LabelEncoder()\n",
    "x_train['주구매상품'] = encoder.fit_transform(x_train['주구매상품'])\n",
    "x_test['주구매상품'] = encoder.fit_transform(x_test['주구매상품'])\n",
    "encoder.classes_\n",
    "x_train['주구매지점'] = encoder.fit_transform(x_train['주구매지점'])\n",
    "x_test['주구매지점'] = encoder.fit_transform(x_test['주구매지점'])\n",
    "encoder.classes_\n",
    "\n",
    "### 파생변수 만들기\n",
    "x_train.loc[x_train['환불금액'] > 0, '환불금액_NEW'] = 1\n",
    "x_train.loc[x_train['환불금액'] == 0, '환불금액_NEW'] = 0\n",
    "x_test.loc[x_test['환불금액'] > 0, '환불금액_NEW'] = 1\n",
    "x_test.loc[x_test['환불금액'] == 0, '환불금액_NEW'] = 0\n",
    "\n",
    "x_train = x_train.drop(columns = ['환불금액'])\n",
    "x_test = x_test.drop(columns = ['환불금액'])\n",
    "\n",
    "### 표준화\n",
    "from sklearn.preprocessing import StandardScaler\n",
    "scaler = StandardScaler()\n",
    "x_train = pd.DataFrame(scaler.fit_transform(x_train), columns = x_train.columns)\n",
    "x_test = pd.DataFrame(scaler.fit_transform(x_test), columns = x_test.columns)\n",
    "\n",
    "### 상관관계확인\n",
    "x_train[['총구매액', '최대구매액', '환불금액_NEW']].corr()\n",
    "x_train = x_train.drop(columns = ['최대구매액'])\n",
    "x_test = x_test.drop(columns = ['최대구매액'])\n",
    "\n",
    "## 데이터 학습 및 평가\n",
    "### 데이터 학습\n",
    "from sklearn.tree import DecisionTreeClassifier\n",
    "model = DecisionTreeClassifier()\n",
    "model.fit(x_train, y_train)\n",
    "y_test_pred = model.predict(x_test)\n",
    "pd.DataFrame(y_test_pred)\n",
    "\n",
    "### 결과 예측\n",
    "y_test_proba = model.predict_proba(x_test)\n",
    "y_test_proba_man = pd.DataFrame(y_test_proba)[1]\n",
    "\n",
    "## 모델 평가\n",
    "y_train_pred = model.predict(x_train)\n",
    "from sklearn.metrics import roc_auc_score\n",
    "roc_auc_score(y_train, y_train_pred)\n",
    "\n",
    "## 결과 저장\n",
    "result = pd.concat([x_test_cust_id, y_test_proba_man], axis=1)\n",
    "result.columns = ['cust_id', 'gender']\n",
    "result.to_csv('./bigData/result1.csv', index=False)\n",
    "result_test = pd.read_csv('./bigData/result1.csv')\n",
    "print(result_test)"
   ]
  },
  {
   "cell_type": "markdown",
   "id": "ec605db6",
   "metadata": {},
   "source": [
    "## 2. 고객 891명에 대한 학습용 데이터를 이용하여 생존 여부를 예측하는 모형을 만든다. 이후 예측 모형을 평가용 데이터에 적용하여 418명 승객의 생존 여부 예측값을 CSV 파일로 생성"
   ]
  },
  {
   "cell_type": "code",
   "execution_count": 33,
   "id": "1a4bbb47",
   "metadata": {},
   "outputs": [
    {
     "name": "stdout",
     "output_type": "stream",
     "text": [
      "티켓등급        0\n",
      "성별          0\n",
      "형제자매배우자수    0\n",
      "부모자식수       0\n",
      "운임요금        0\n",
      "선착장         2\n",
      "dtype: int64\n",
      "티켓등급        0\n",
      "성별          0\n",
      "형제자매배우자수    0\n",
      "부모자식수       0\n",
      "운임요금        0\n",
      "선착장         0\n",
      "dtype: int64\n",
      "0    S\n",
      "dtype: object\n"
     ]
    }
   ],
   "source": [
    "# 데이터 불러오기\n",
    "x_train = pd.read_csv('./bigData/titanic_x_train.csv', encoding='CP949')\n",
    "x_test = pd.read_csv('./bigData/titanic_x_test.csv', encoding='CP949')\n",
    "y_train = pd.read_csv('./bigData/titanic_y_train.csv', encoding='CP949')\n",
    "\n",
    "# 데이터 탐색 \n",
    "y_train.columns = ['PassengerId', 'Survived']\n",
    "# print(x_train.head(), x_test.head(), y_train.head())\n",
    "# print(x_train.info(), x_test.info(), y_train.info())\n",
    "pd.concat([x_train, y_train['Survived']], axis=1).corr()['Survived']\n",
    "\n",
    "# 데이터 정제\n",
    "x_train = x_train.drop(columns = ['PassengerId', '나이', '승객이름', '티켓번호', '객실번호'])\n",
    "x_test_passengerId = x_test['PassengerId']\n",
    "x_test = x_test.drop(columns = ['PassengerId', '나이', '승객이름', '티켓번호', '객실번호'])\n",
    "y_train = y_train.drop(columns = ['PassengerId'])\n",
    "\n",
    "x_train['선착장'] = x_train['선착장'].fillna(x_train['선착장'].mode())\n",
    "x_test['운임요금'] = x_test['운임요금'].fillna(x_test['운임요금'].mean())\n",
    "\n",
    "print(x_train.isnull().sum())\n",
    "print(x_test.isnull().sum())\n",
    "print(x_train['선착장'].mode())\n"
   ]
  },
  {
   "cell_type": "code",
   "execution_count": 28,
   "id": "3e3b40a0",
   "metadata": {},
   "outputs": [
    {
     "name": "stdout",
     "output_type": "stream",
     "text": [
      "0    S\n",
      "dtype: object\n"
     ]
    }
   ],
   "source": [
    "print(x_train['선착장'].mode())"
   ]
  },
  {
   "cell_type": "code",
   "execution_count": null,
   "id": "cf1bf04b",
   "metadata": {},
   "outputs": [],
   "source": []
  }
 ],
 "metadata": {
  "kernelspec": {
   "display_name": "Python 3",
   "language": "python",
   "name": "python3"
  },
  "language_info": {
   "codemirror_mode": {
    "name": "ipython",
    "version": 3
   },
   "file_extension": ".py",
   "mimetype": "text/x-python",
   "name": "python",
   "nbconvert_exporter": "python",
   "pygments_lexer": "ipython3",
   "version": "3.8.8"
  }
 },
 "nbformat": 4,
 "nbformat_minor": 5
}
