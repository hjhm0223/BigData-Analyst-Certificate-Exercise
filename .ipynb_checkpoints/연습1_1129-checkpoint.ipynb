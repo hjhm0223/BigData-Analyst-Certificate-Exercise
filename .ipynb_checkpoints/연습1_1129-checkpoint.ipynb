{
 "cells": [
  {
   "cell_type": "code",
   "execution_count": null,
   "id": "cda7c1ae",
   "metadata": {},
   "outputs": [],
   "source": [
    "import pkg_resources \n",
    "import pandas as pd\n",
    "OutputDataSet = pd.DataFrame(sorted([(i.key, i.version) for i in pkg_resources.working_set])) \n",
    "print(OutputDataSet)"
   ]
  },
  {
   "cell_type": "markdown",
   "id": "cca8de5e",
   "metadata": {},
   "source": [
    "# 0.데이터 불러오기"
   ]
  },
  {
   "cell_type": "code",
   "execution_count": null,
   "id": "580a3e77",
   "metadata": {},
   "outputs": [],
   "source": [
    "# csv파일 불러오기\n",
    "mtcars = pd.read_csv('./bigData/mtcars.csv')\n",
    "mtcars.head()"
   ]
  },
  {
   "cell_type": "markdown",
   "id": "f6bf23d3",
   "metadata": {},
   "source": [
    "# 1.데이터 탐색"
   ]
  },
  {
   "cell_type": "code",
   "execution_count": null,
   "id": "955944d4",
   "metadata": {
    "scrolled": true
   },
   "outputs": [],
   "source": [
    "## 데이터 모양\n",
    "mtcars.shape\n",
    "## 데이터 타입\n",
    "type(mtcars)\n",
    "## 데이터 열\n",
    "mtcars.columns\n",
    "## 기초 통계량\n",
    "mtcars.describe().T\n",
    "## 중복 제거값\n",
    "mtcars['gear'].unique()\n",
    "## 데이터 요약\n",
    "mtcars.info()\n",
    "## 상관관계\n",
    "mtcars.corr()\n",
    "## 1사분위수\n",
    "mtcars.quantile(0.25)\n",
    "## 표준편차 구하기\n",
    "mtcars_sort.std()"
   ]
  },
  {
   "cell_type": "code",
   "execution_count": null,
   "id": "d9045236",
   "metadata": {},
   "outputs": [],
   "source": [
    "## 독립변수, 종속변수 나누기\n",
    "X = mtcars.drop(columns = 'mpg')\n",
    "Y = mtcars['mpg']\n",
    "print(X.head())\n",
    "print(Y.head())"
   ]
  },
  {
   "cell_type": "markdown",
   "id": "56f7c487",
   "metadata": {},
   "source": [
    "# 2.데이터 정제"
   ]
  },
  {
   "cell_type": "code",
   "execution_count": null,
   "id": "e27012b2",
   "metadata": {},
   "outputs": [],
   "source": [
    "## 2.1.불필요한 열 삭제 }\n",
    "X = X.iloc[:, 1:] # 위치값으로 데이터를 추출하는 iloc 함수 사용\n",
    "X.head()"
   ]
  },
  {
   "cell_type": "code",
   "execution_count": null,
   "id": "4eea91f1",
   "metadata": {},
   "outputs": [],
   "source": [
    "## 2.2.누락된 값 삭제 or 대체\n",
    "X.isnull().sum()\n",
    "\n",
    "### 평균으로 대체\n",
    "cyl_mean = X['cyl'].mean()\n",
    "X['cyl'] = X['cyl'].fillna(cyl_mean)\n",
    "### 중앙값으로 대체\n",
    "qsec_median = X['qsec'].median()\n",
    "X['qsec'] = X['qsec'].fillna(qsec_median)\n",
    "### na값 삭제\n",
    "X = X.dropna()\n",
    "### 특정 행 삭제\n",
    "# X = X.drop(index=mtcars[mtcars['qsec'] > 50].index)\n",
    "\n",
    "print(X.isnull().sum())"
   ]
  },
  {
   "cell_type": "code",
   "execution_count": null,
   "id": "a2365baf",
   "metadata": {},
   "outputs": [],
   "source": [
    "## 데이터 정렬\n",
    "mtcars_sort = mtcars.sort_values('qsec', ascending = False)\n",
    "min_qsec_10 = mtcars_sort[:10]['qsec'].min()\n",
    "print(min_qsec_10)\n",
    "mtcars_sort.iloc[:10, 6] = min_qsec_10\n",
    "mtcars_sort[:10]\n",
    "mtcars_sort[mtcars_sort['hp']>=80]['qsec'].mean()"
   ]
  },
  {
   "cell_type": "code",
   "execution_count": null,
   "id": "a4a59549",
   "metadata": {},
   "outputs": [],
   "source": [
    "## 2.3.잘못된 값 대체\n",
    "X['gear'].unique()\n",
    "X['gear'] = X['gear'].replace('*3', '3').replace('*5', '5')\n",
    "print(X['gear'].unique())"
   ]
  },
  {
   "cell_type": "code",
   "execution_count": null,
   "id": "f651f613",
   "metadata": {},
   "outputs": [],
   "source": [
    "## 2.4.이상값 조정\n",
    "# IQR(사분위수범위) = Q3-Q1\n",
    "# 이상값은 [Q1-1.5*IQR, Q3+1.5*IQR]를 벗어나는 값\n",
    "X_describe = X.describe()\n",
    "X_IQR = X_describe.loc['75%']-X_describe.loc['25%']\n",
    "X_min = X_describe.loc['25%']-1.5*X_IQR\n",
    "X_max = 1.5*X_IQR+X_describe.loc['75%']\n",
    "\n",
    "# 벗어나는 값 찾아 대체\n",
    "print(X[X['cyl']>X_max['cyl']])\n",
    "print(X[X['hp']>X_max['hp']])\n",
    "X.loc[14,'cyl'] = X_max['cyl']\n",
    "X.loc[30,'hp'] = X_max['hp']\n",
    "\n",
    "# 함수만들어서 outlier 대체하기"
   ]
  },
  {
   "cell_type": "code",
   "execution_count": null,
   "id": "7c97c78f",
   "metadata": {},
   "outputs": [],
   "source": [
    "# 2.5.데이터 스케일링 (숫자형)\n",
    "temp = X[['qsec']]\n",
    "\n",
    "## 표준 크기변환(Standard Scaling)\n",
    "from sklearn.preprocessing import StandardScaler\n",
    "scaler = StandardScaler()\n",
    "qsec_s_scaler = pd.DataFrame(scaler.fit_transform(temp))\n",
    "print(qsec_s_scaler.describe())\n",
    "\n",
    "## 최소-최대 크기변환(Min-Max Scaling)\n",
    "from sklearn.preprocessing import MinMaxScaler\n",
    "scaler = MinMaxScaler()\n",
    "qsec_m_scaler = pd.DataFrame(scaler.fit_transform(temp))\n",
    "print(qsec_m_scaler.describe())\n",
    "\n",
    "## 로버스트 크기변환(Robust Scaling)\n",
    "from sklearn.preprocessing import RobustScaler\n",
    "scaler = RobustScaler()\n",
    "qsec_r_scaler = pd.DataFrame(scaler.fit_transform(temp))\n",
    "print(qsec_r_scaler.describe())"
   ]
  },
  {
   "cell_type": "code",
   "execution_count": null,
   "id": "58fd82e7",
   "metadata": {
    "scrolled": true
   },
   "outputs": [],
   "source": [
    "# 2.6.데이터 타입 변경\n",
    "print(X.info())\n",
    "\n",
    "## gear변수는 수치를 나타내는 변수이므로 수치형 변수로 변환\n",
    "X['gear'] = X['gear'].astype('int64')\n",
    "print(X['gear'].dtype)"
   ]
  },
  {
   "cell_type": "markdown",
   "id": "55d08aad",
   "metadata": {},
   "source": [
    "# 2.7.범주형 데이터을 숫자형 데이터로 변경"
   ]
  },
  {
   "cell_type": "code",
   "execution_count": null,
   "id": "9a996dfa",
   "metadata": {},
   "outputs": [],
   "source": [
    "## Encoding\n",
    "### 1.One-Hot Encoding\n",
    "pd.get_dummies(X, drop_first=True)\n",
    "\n",
    "### 2.Label Encoding\n",
    "from sklearn.preprocessing import LabelEncoder\n",
    "encoder = LabelEncoder()\n",
    "am_new = encoder.fit_transform(X['am'])\n",
    "print(X['am'], am_new)\n",
    "X['am_new'] = X['am'].replace('manual', 0).replace('auto', 1)\n",
    "X = X.drop(columns=['am'])\n",
    "X.head()"
   ]
  },
  {
   "cell_type": "markdown",
   "id": "71879c1d",
   "metadata": {},
   "source": [
    "# 2.8.파생변수 만들기"
   ]
  },
  {
   "cell_type": "code",
   "execution_count": null,
   "id": "1870add2",
   "metadata": {
    "scrolled": true
   },
   "outputs": [],
   "source": [
    "## 무게를 의미하는 wt변수에 따라 등급을 구분하는 wt_class를 만들어 3.3보다 작으면 0, 3.3보다 크거나 같으면 1로 구분한다.\n",
    "condition = X['wt']<3.3\n",
    "X.loc[condition, 'wt_class'] = 0\n",
    "X.loc[-condition, 'wt_class'] = 1\n",
    "X = X.drop(columns = 'wt')\n",
    "\n",
    "## qsec변수 단위를 1/4mile에서 1mile 단위로 변환하여 qsec_4변수를 만든다.\n",
    "X['qsec_4'] = X['qsec']*4\n",
    "X = X.drop(columns = 'qsec')\n",
    "X.head()"
   ]
  },
  {
   "cell_type": "markdown",
   "id": "c640636e",
   "metadata": {},
   "source": [
    "# 3.데이터 분리"
   ]
  },
  {
   "cell_type": "code",
   "execution_count": null,
   "id": "929c61c6",
   "metadata": {},
   "outputs": [],
   "source": [
    "from sklearn.model_selection import train_test_split\n",
    "x_train, x_test, y_train, y_test = train_test_split(X, Y, test_size=0.3, random_state=10)\n",
    "print(x_train.head(), x_test.head(), y_train.head(), y_test.head())"
   ]
  },
  {
   "cell_type": "markdown",
   "id": "a28bc5ab",
   "metadata": {},
   "source": [
    "# 4.모델 학습/평가\n",
    "\n",
    "from sklearn.모듈 import 모델함수  \n",
    "model = 모델함수()  \n",
    "model.fit(x_train, y_train)  \n",
    "y_train_pred = model.predict(x_train)  \n",
    "y_test_pred = model.predict(x_test)  \n",
    "\n",
    "from sklearn.metrics import 평가함수  \n",
    "print(평가함수(y_train, y_train_pred))  \n",
    "print(평가함수(y_test, y_test_pred))  "
   ]
  },
  {
   "cell_type": "code",
   "execution_count": null,
   "id": "c1d518d0",
   "metadata": {},
   "outputs": [],
   "source": [
    "## 1.선형회귀\n",
    "from sklearn.linear_model import LinearRegression\n",
    "model = LinearRegression()\n",
    "model.fit(x_train.iloc[:,1:], y_train)\n",
    "\n",
    "y_train_pred = model.predict(x_train.iloc[:,1:])\n",
    "y_test_pred = model.predict(x_test.iloc[:,1:])\n",
    "\n",
    "print('상수: ', model.intercept_, '회귀계수: ', model.coef_)\n",
    "print('학습데이터 결정계수: ', model.score(x_train.iloc[:,1:], y_train), model.score(x_test.iloc[:,1:], y_test))\n",
    "\n",
    "### 모델평가"
   ]
  },
  {
   "cell_type": "code",
   "execution_count": null,
   "id": "b492a317",
   "metadata": {},
   "outputs": [],
   "source": [
    "## 2.RandomForestRegressor\n",
    "from sklearn.ensemble import RandomForestRegressor\n",
    "model = RandomForestRegressor(random_state = 10)\n",
    "model.fit(x_train, y_train)\n",
    "\n",
    "y_train_pred = model.predict(x_train)\n",
    "y_test_pred = model.predict(x_test)\n",
    "\n",
    "from sklearn.metrics import r2_score, mean_squared_error, mean_absolute_error\n",
    "print('학습데이터의 결정계수: ', r2_score(y_train, y_train_pred))\n",
    "print('테스트데이터의 결정계수: ', r2_score(y_test, y_test_pred))\n",
    "print('MSE: ', mean_squared_error(y_test, y_test_pred))\n",
    "print('MAE: ', mean_absolute_error(y_test, y_test_pred))"
   ]
  },
  {
   "cell_type": "code",
   "execution_count": null,
   "id": "d4164f48",
   "metadata": {},
   "outputs": [],
   "source": [
    "### hyperparameter 조정\n",
    "model = RandomForestRegressor(n_estimators=1000, criterion='mae', random_state=10)\n",
    "model.fit(x_train, y_train)\n",
    "\n",
    "y_train_pred = model.predict(x_train)\n",
    "y_test_pred = model.predict(x_test)\n",
    "\n",
    "from sklearn.metrics import r2_score, mean_squared_error, mean_absolute_error\n",
    "print('학습데이터의 결정계수: ', r2_score(y_train, y_train_pred))\n",
    "print('테스트데이터의 결정계수: ', r2_score(y_test, y_test_pred))\n",
    "print('MSE: ', mean_squared_error(y_test, y_test_pred))\n",
    "print('MAE: ', mean_absolute_error(y_test, y_test_pred))"
   ]
  },
  {
   "cell_type": "markdown",
   "id": "1169125c",
   "metadata": {},
   "source": [
    "# 6.결과 저장"
   ]
  },
  {
   "cell_type": "code",
   "execution_count": null,
   "id": "6cface7f",
   "metadata": {},
   "outputs": [],
   "source": [
    "output = pd.DataFrame(y_test_pred)\n",
    "output = pd.concat([x_test.iloc[:,0], output], axis=1)\n",
    "print(output)\n",
    "output.to_csv('./output.csv', index = False) #'data/output.csv'"
   ]
  }
 ],
 "metadata": {
  "kernelspec": {
   "display_name": "Python 3",
   "language": "python",
   "name": "python3"
  },
  "language_info": {
   "codemirror_mode": {
    "name": "ipython",
    "version": 3
   },
   "file_extension": ".py",
   "mimetype": "text/x-python",
   "name": "python",
   "nbconvert_exporter": "python",
   "pygments_lexer": "ipython3",
   "version": "3.8.8"
  }
 },
 "nbformat": 4,
 "nbformat_minor": 5
}
